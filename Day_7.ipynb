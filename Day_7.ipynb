{
  "nbformat": 4,
  "nbformat_minor": 0,
  "metadata": {
    "colab": {
      "name": "Day 7.ipynb",
      "provenance": [],
      "include_colab_link": true
    },
    "kernelspec": {
      "name": "python3",
      "display_name": "Python 3"
    }
  },
  "cells": [
    {
      "cell_type": "markdown",
      "metadata": {
        "id": "view-in-github",
        "colab_type": "text"
      },
      "source": [
        "<a href=\"https://colab.research.google.com/github/Rahulgarla/Flash/blob/master/Day_7.ipynb\" target=\"_parent\"><img src=\"https://colab.research.google.com/assets/colab-badge.svg\" alt=\"Open In Colab\"/></a>"
      ]
    },
    {
      "cell_type": "code",
      "metadata": {
        "id": "xXlFOzqSKR26",
        "colab_type": "code",
        "outputId": "46fb0f20-4e8c-4ab3-b4a3-a996b89ec8c0",
        "colab": {
          "base_uri": "https://localhost:8080/",
          "height": 102
        }
      },
      "source": [
        "# basic list functions\n",
        "li=[1,9,16,25,5]\n",
        "print(max(li))\n",
        "print(min(li))\n",
        "print(sum(li))\n",
        "print(sum(li)/len(li))\n",
        "print(sum(li)//len(li))"
      ],
      "execution_count": 0,
      "outputs": [
        {
          "output_type": "stream",
          "text": [
            "25\n",
            "1\n",
            "56\n",
            "11.2\n",
            "11\n"
          ],
          "name": "stdout"
        }
      ]
    },
    {
      "cell_type": "code",
      "metadata": {
        "id": "GN_ql0vwMM5S",
        "colab_type": "code",
        "outputId": "e5313d70-ec95-461c-e57f-8d6f13de222f",
        "colab": {
          "base_uri": "https://localhost:8080/",
          "height": 34
        }
      },
      "source": [
        "li=[1,9,16,25,5,9]\n",
        "li.append(29) # add the new items at the list li\n",
        "li.insert(2,56) # add the new items in the li\n",
        "li.append(9)\n",
        "li.count(9) # return the value\n",
        "#li.index(56) # return the value"
      ],
      "execution_count": 0,
      "outputs": [
        {
          "output_type": "execute_result",
          "data": {
            "text/plain": [
              "3"
            ]
          },
          "metadata": {
            "tags": []
          },
          "execution_count": 12
        }
      ]
    },
    {
      "cell_type": "code",
      "metadata": {
        "id": "eNfNCJU7NnMn",
        "colab_type": "code",
        "outputId": "58b152e1-b7e3-4d7c-e3c4-795529c24e46",
        "colab": {
          "base_uri": "https://localhost:8080/",
          "height": 34
        }
      },
      "source": [
        "# method of list object\n",
        "li=[1,9,16,56,25,5,9]\n",
        "li.sort() # sorts that list in assending order\n",
        "li"
      ],
      "execution_count": 0,
      "outputs": [
        {
          "output_type": "execute_result",
          "data": {
            "text/plain": [
              "[1, 5, 9, 9, 16, 25, 56]"
            ]
          },
          "metadata": {
            "tags": []
          },
          "execution_count": 20
        }
      ]
    },
    {
      "cell_type": "code",
      "metadata": {
        "id": "rgSGuCeVO_Oq",
        "colab_type": "code",
        "outputId": "77ab30e1-9b55-4cad-877f-b25ca58acf46",
        "colab": {
          "base_uri": "https://localhost:8080/",
          "height": 34
        }
      },
      "source": [
        "# method of list object\n",
        "li=[1,9,16,56,25,5,9]\n",
        "li.pop() # last index value removed\n",
        "li"
      ],
      "execution_count": 0,
      "outputs": [
        {
          "output_type": "execute_result",
          "data": {
            "text/plain": [
              "[1, 9, 16, 56, 25, 5]"
            ]
          },
          "metadata": {
            "tags": []
          },
          "execution_count": 21
        }
      ]
    },
    {
      "cell_type": "code",
      "metadata": {
        "id": "VoShnEN2Q4Hk",
        "colab_type": "code",
        "outputId": "c529fe73-0ddb-43f3-882e-5a85b5ef2e03",
        "colab": {
          "base_uri": "https://localhost:8080/",
          "height": 34
        }
      },
      "source": [
        "# method of list object\n",
        "li=[1,9,16,56,25,5,9]\n",
        "li.pop(1) # second index value removed\n",
        "li"
      ],
      "execution_count": 0,
      "outputs": [
        {
          "output_type": "execute_result",
          "data": {
            "text/plain": [
              "[1, 16, 56, 25, 5, 9]"
            ]
          },
          "metadata": {
            "tags": []
          },
          "execution_count": 22
        }
      ]
    },
    {
      "cell_type": "code",
      "metadata": {
        "id": "YMJd1EKGQ9gb",
        "colab_type": "code",
        "outputId": "69883a5b-d24f-452a-fe1d-6ab7be4ba8b3",
        "colab": {
          "base_uri": "https://localhost:8080/",
          "height": 34
        }
      },
      "source": [
        "li1=[1,6,19,25]\n",
        "li.extend(li1)\n",
        "li1"
      ],
      "execution_count": 0,
      "outputs": [
        {
          "output_type": "execute_result",
          "data": {
            "text/plain": [
              "[1, 6, 19, 25]"
            ]
          },
          "metadata": {
            "tags": []
          },
          "execution_count": 24
        }
      ]
    },
    {
      "cell_type": "code",
      "metadata": {
        "id": "P_vgrF3BRRDL",
        "colab_type": "code",
        "outputId": "5b19f4f9-62d2-430c-d919-a7a7abbb38ed",
        "colab": {
          "base_uri": "https://localhost:8080/",
          "height": 34
        }
      },
      "source": [
        "li1=[1,6,19,25]\n",
        "li1.reverse()\n",
        "li1"
      ],
      "execution_count": 0,
      "outputs": [
        {
          "output_type": "execute_result",
          "data": {
            "text/plain": [
              "[25, 19, 6, 1]"
            ]
          },
          "metadata": {
            "tags": []
          },
          "execution_count": 26
        }
      ]
    },
    {
      "cell_type": "code",
      "metadata": {
        "id": "n4FDCzOnRtws",
        "colab_type": "code",
        "outputId": "619ad11d-b074-48b3-d970-22b8de35ce93",
        "colab": {
          "base_uri": "https://localhost:8080/",
          "height": 51
        }
      },
      "source": [
        "def largenumber(li):\n",
        "    li.sort()\n",
        "    return li[-1]\n",
        "def genericlarge(li,n):\n",
        "    li.sort()\n",
        "    return li[-n]\n",
        "li=[19,1,25,6,9,45,22]\n",
        "print(largenumber(li))\n",
        "print(genericlarge(li,3))"
      ],
      "execution_count": 0,
      "outputs": [
        {
          "output_type": "stream",
          "text": [
            "45\n",
            "22\n"
          ],
          "name": "stdout"
        }
      ]
    },
    {
      "cell_type": "code",
      "metadata": {
        "id": "wRPV7xQ4TMO8",
        "colab_type": "code",
        "outputId": "cb0b565f-923c-4cd4-b80b-a92ca74c9fbd",
        "colab": {
          "base_uri": "https://localhost:8080/",
          "height": 51
        }
      },
      "source": [
        "def smallnumber(li):\n",
        "    li.sort()\n",
        "    return li[-7]\n",
        "def genericsmall(li,n):\n",
        "    li.sort()\n",
        "    return li[n-1]\n",
        "li=[19,1,25,6,9,45,22]\n",
        "print(smallnumber(li))\n",
        "print(genericsmall(li,3))"
      ],
      "execution_count": 0,
      "outputs": [
        {
          "output_type": "stream",
          "text": [
            "1\n",
            "9\n"
          ],
          "name": "stdout"
        }
      ]
    },
    {
      "cell_type": "markdown",
      "metadata": {
        "id": "IuxOcEi3Zd4l",
        "colab_type": "text"
      },
      "source": [
        "### Tuples\n",
        "- parenthesis() ---> tuple and square breckets[]---> list\n",
        "- difference between list and tuples\n",
        "  - list are mutable - can be changed/modified\n",
        "  - used to access and modify,add,delete data\n",
        "  - tuples are immutable - cannot be changed\n",
        "  - used to access data only"
      ]
    },
    {
      "cell_type": "code",
      "metadata": {
        "id": "L_6TwVgObVw6",
        "colab_type": "code",
        "colab": {
          "base_uri": "https://localhost:8080/",
          "height": 34
        },
        "outputId": "737cecc9-256e-43d8-f520-31456795b817"
      },
      "source": [
        "t1=(1,2,3,4,5,6)\n",
        "t1\n",
        "print(type(t1),t1[1:5])"
      ],
      "execution_count": 65,
      "outputs": [
        {
          "output_type": "stream",
          "text": [
            "<class 'tuple'> (2, 3, 4, 5)\n"
          ],
          "name": "stdout"
        }
      ]
    },
    {
      "cell_type": "markdown",
      "metadata": {
        "id": "AFmEGt1ZdHL-",
        "colab_type": "text"
      },
      "source": [
        "### Dictionaries\n",
        "1. it works on the concept of set unique data\n",
        "2. keys,values is the unique identifier for the value\n",
        "3. each key is seperated from its values with colon(:)\n",
        "4. each key and value is separated with comma(,)\n",
        "5. Dictionaries enchanged with curly braces({})"
      ]
    },
    {
      "cell_type": "code",
      "metadata": {
        "id": "fF0iLc1WdIog",
        "colab_type": "code",
        "colab": {
          "base_uri": "https://localhost:8080/",
          "height": 34
        },
        "outputId": "01d80190-9daa-401e-f85e-f0a8888731b9"
      },
      "source": [
        "d1={\"Name\":\"gitam\",\"email id\":\"gitam@gmail.com\",\"address\":\"hyderabad\"}\n",
        "d1"
      ],
      "execution_count": 66,
      "outputs": [
        {
          "output_type": "execute_result",
          "data": {
            "text/plain": [
              "{'Name': 'gitam', 'address': 'hyderabad', 'email id': 'gitam@gmail.com'}"
            ]
          },
          "metadata": {
            "tags": []
          },
          "execution_count": 66
        }
      ]
    },
    {
      "cell_type": "code",
      "metadata": {
        "id": "7uNVLafHeCbQ",
        "colab_type": "code",
        "colab": {
          "base_uri": "https://localhost:8080/",
          "height": 34
        },
        "outputId": "d979330b-9446-429f-b8ae-eaf1861129a7"
      },
      "source": [
        "d1={\"Name\":\"gitam\",\"email id\":\"gitam@gmail.com\",\"address\":\"hyderabad\"}\n",
        "d1[\"email id\"]=\"gitampython@gmail.com\"\n",
        "d1"
      ],
      "execution_count": 67,
      "outputs": [
        {
          "output_type": "execute_result",
          "data": {
            "text/plain": [
              "{'Name': 'gitam', 'address': 'hyderabad', 'email id': 'gitampython@gmail.com'}"
            ]
          },
          "metadata": {
            "tags": []
          },
          "execution_count": 67
        }
      ]
    },
    {
      "cell_type": "code",
      "metadata": {
        "id": "SYiUCoOweQdw",
        "colab_type": "code",
        "colab": {
          "base_uri": "https://localhost:8080/",
          "height": 34
        },
        "outputId": "59c00e02-6e87-45bd-84d0-b90768c0d4cd"
      },
      "source": [
        "d1[\"email id\"]"
      ],
      "execution_count": 68,
      "outputs": [
        {
          "output_type": "execute_result",
          "data": {
            "text/plain": [
              "'gitampython@gmail.com'"
            ]
          },
          "metadata": {
            "tags": []
          },
          "execution_count": 68
        }
      ]
    },
    {
      "cell_type": "code",
      "metadata": {
        "id": "kaQRUF2LeWmv",
        "colab_type": "code",
        "colab": {
          "base_uri": "https://localhost:8080/",
          "height": 87
        },
        "outputId": "f699145a-42d9-4758-9971-eea395c5f5e8"
      },
      "source": [
        "d1[\"course\"]=\"python\" #adding an entry\n",
        "d1"
      ],
      "execution_count": 72,
      "outputs": [
        {
          "output_type": "execute_result",
          "data": {
            "text/plain": [
              "{'Name': 'gitam',\n",
              " 'address': 'hyderabad',\n",
              " 'course': 'python',\n",
              " 'email id': 'gitampython@gmail.com'}"
            ]
          },
          "metadata": {
            "tags": []
          },
          "execution_count": 72
        }
      ]
    },
    {
      "cell_type": "code",
      "metadata": {
        "id": "EJ5bO3ioelvg",
        "colab_type": "code",
        "colab": {
          "base_uri": "https://localhost:8080/",
          "height": 34
        },
        "outputId": "e25aadde-1e0c-4aeb-b671-6d73f8efcb12"
      },
      "source": [
        "del d1[\"email id\"]\n",
        "d1"
      ],
      "execution_count": 73,
      "outputs": [
        {
          "output_type": "execute_result",
          "data": {
            "text/plain": [
              "{'Name': 'gitam', 'address': 'hyderabad', 'course': 'python'}"
            ]
          },
          "metadata": {
            "tags": []
          },
          "execution_count": 73
        }
      ]
    },
    {
      "cell_type": "code",
      "metadata": {
        "id": "ixdSNJyMgzP3",
        "colab_type": "code",
        "colab": {
          "base_uri": "https://localhost:8080/",
          "height": 34
        },
        "outputId": "e3ecdbb9-cb57-41e3-d9bd-a6e0fce8ab10"
      },
      "source": [
        "d1.keys()"
      ],
      "execution_count": 74,
      "outputs": [
        {
          "output_type": "execute_result",
          "data": {
            "text/plain": [
              "dict_keys(['Name', 'address', 'course'])"
            ]
          },
          "metadata": {
            "tags": []
          },
          "execution_count": 74
        }
      ]
    },
    {
      "cell_type": "code",
      "metadata": {
        "id": "1Lk0vbcdg39P",
        "colab_type": "code",
        "colab": {
          "base_uri": "https://localhost:8080/",
          "height": 34
        },
        "outputId": "9d3e44a1-eefb-45b6-a4c2-447c2e6f2422"
      },
      "source": [
        "d1.values()"
      ],
      "execution_count": 75,
      "outputs": [
        {
          "output_type": "execute_result",
          "data": {
            "text/plain": [
              "dict_values(['gitam', 'hyderabad', 'python'])"
            ]
          },
          "metadata": {
            "tags": []
          },
          "execution_count": 75
        }
      ]
    },
    {
      "cell_type": "code",
      "metadata": {
        "id": "z3XKB0Ccg6fA",
        "colab_type": "code",
        "colab": {
          "base_uri": "https://localhost:8080/",
          "height": 34
        },
        "outputId": "46cdf118-9711-43d4-bd70-1b216ba39f09"
      },
      "source": [
        "d1.items() # the list of tupples of keys and values"
      ],
      "execution_count": 83,
      "outputs": [
        {
          "output_type": "execute_result",
          "data": {
            "text/plain": [
              "dict_items([('Name', 'gitam'), ('address', 'hyderabad'), ('course', 'python')])"
            ]
          },
          "metadata": {
            "tags": []
          },
          "execution_count": 83
        }
      ]
    },
    {
      "cell_type": "markdown",
      "metadata": {
        "id": "dNPLTXh7iYZY",
        "colab_type": "text"
      },
      "source": [
        "### strings:\n",
        "- strings\n",
        "- string slicings\n",
        "- fundamental programming with strings in python"
      ]
    },
    {
      "cell_type": "code",
      "metadata": {
        "id": "VGa4uYFBik6o",
        "colab_type": "code",
        "colab": {
          "base_uri": "https://localhost:8080/",
          "height": 52
        },
        "outputId": "941fcf40-cb1e-40ac-f1ee-7937d3be433d"
      },
      "source": [
        "s1='python'\n",
        "print(s1)\n",
        "print(type(s1))"
      ],
      "execution_count": 84,
      "outputs": [
        {
          "output_type": "stream",
          "text": [
            "python\n",
            "<class 'str'>\n"
          ],
          "name": "stdout"
        }
      ]
    },
    {
      "cell_type": "code",
      "metadata": {
        "id": "jg9huDxairk5",
        "colab_type": "code",
        "colab": {
          "base_uri": "https://localhost:8080/",
          "height": 105
        },
        "outputId": "74ea7cc2-5e7b-4bd1-d271-892fc6269ee7"
      },
      "source": [
        "s1='python'\n",
        "print(s1[0]) # access the first character\n",
        "print(s1[1]) # access the second character\n",
        "print(s1[5]) # last character\n",
        "print(s1[len(s1)-1]) # access the last character\n",
        "print(len(s1))"
      ],
      "execution_count": 94,
      "outputs": [
        {
          "output_type": "stream",
          "text": [
            "p\n",
            "y\n",
            "n\n",
            "n\n",
            "6\n"
          ],
          "name": "stdout"
        }
      ]
    },
    {
      "cell_type": "code",
      "metadata": {
        "id": "pg3Y6Hunk0rx",
        "colab_type": "code",
        "colab": {
          "base_uri": "https://localhost:8080/",
          "height": 212
        },
        "outputId": "f66d62cc-67a1-4f5d-c253-a6e00987d1f9"
      },
      "source": [
        "print(s1[-1]) # another way to access the last character\n",
        "print(s1[-2]) # another way to access the last second character\n",
        "print(s1[0:2]) # access first characters\n",
        "print(s1[:2]) # access the first characters\n",
        "print(s1[-3:]) # last three charaters\n",
        "print(s1[2:]) # from second charater to last character\n",
        "print(s1[2:4]) # from second charater to third character\n",
        "print(s1[2:5]) # from second charater to fourth character\n",
        "print(s1[::2]) # two charaters gap\n",
        "print(s1[::3]) # three charaters gap\n",
        "print(s1[::-2]) # from reverse order"
      ],
      "execution_count": 100,
      "outputs": [
        {
          "output_type": "stream",
          "text": [
            "n\n",
            "o\n",
            "py\n",
            "py\n",
            "hon\n",
            "thon\n",
            "th\n",
            "tho\n",
            "pto\n",
            "ph\n",
            "nhy\n"
          ],
          "name": "stdout"
        }
      ]
    },
    {
      "cell_type": "code",
      "metadata": {
        "id": "RW_Hzu3CnoFr",
        "colab_type": "code",
        "colab": {
          "base_uri": "https://localhost:8080/",
          "height": 34
        },
        "outputId": "b928a5a1-53d9-42ac-f2f4-fb04afa2a7ee"
      },
      "source": [
        "# reversing a string \n",
        "def reversestring(str):\n",
        "    return str[-1::-1] \n",
        "reversestring(\"programming\")"
      ],
      "execution_count": 105,
      "outputs": [
        {
          "output_type": "execute_result",
          "data": {
            "text/plain": [
              "'gnimmargorp'"
            ]
          },
          "metadata": {
            "tags": []
          },
          "execution_count": 105
        }
      ]
    },
    {
      "cell_type": "code",
      "metadata": {
        "id": "G93ppVb9oDWz",
        "colab_type": "code",
        "colab": {
          "base_uri": "https://localhost:8080/",
          "height": 52
        },
        "outputId": "e1dd430c-95fd-44ab-a762-3deb90fbea7e"
      },
      "source": [
        "#check whether the given string is palindrome or not\n",
        "def ispalindrome(str):\n",
        "    if str==str[::-1]:\n",
        "      return True\n",
        "    else:\n",
        "      return False\n",
        "    return  \n",
        "print(ispalindrome(\"python\"))\n",
        "print(ispalindrome('ganag'))"
      ],
      "execution_count": 109,
      "outputs": [
        {
          "output_type": "stream",
          "text": [
            "False\n",
            "True\n"
          ],
          "name": "stdout"
        }
      ]
    },
    {
      "cell_type": "markdown",
      "metadata": {
        "id": "OwbTBnoDpnrR",
        "colab_type": "text"
      },
      "source": [
        "### String built-in methods:\n",
        "1. upper() -- will convert the input string into upper case\n",
        "2. lower() -- will convert the input string into lower case\n",
        "3. islower() -- true if the string have all characters lower case\n",
        "4. isupper() -- true if the string have all characters upper case\n",
        "5. istitle() -- true if the string in title case\n",
        "5.isnumeric() -- true if the string is numeric\n",
        "6. isalpha() -- true if the string only alphabets\n",
        "6. isspace() -- true if the string is space"
      ]
    },
    {
      "cell_type": "code",
      "metadata": {
        "id": "Unt1-ex-p5cx",
        "colab_type": "code",
        "colab": {
          "base_uri": "https://localhost:8080/",
          "height": 52
        },
        "outputId": "45e716e6-3345-426f-cafe-e67711478ee5"
      },
      "source": [
        "s1='python'\n",
        "print(s1.upper())\n",
        "print(s1.lower())"
      ],
      "execution_count": 110,
      "outputs": [
        {
          "output_type": "stream",
          "text": [
            "PYTHON\n",
            "python\n"
          ],
          "name": "stdout"
        }
      ]
    },
    {
      "cell_type": "code",
      "metadata": {
        "id": "uHy34yQYqybU",
        "colab_type": "code",
        "colab": {
          "base_uri": "https://localhost:8080/",
          "height": 158
        },
        "outputId": "b64e2dab-5770-468f-f33b-f4a78d3ca728"
      },
      "source": [
        "s1=\"Python\"\n",
        "s2=\" \"\n",
        "s3=\"12334\"\n",
        "print(s1.islower())\n",
        "print(s1.isupper())\n",
        "print(s1.istitle())\n",
        "print(s1.isnumeric())\n",
        "print(s1.isalpha())\n",
        "print(s1.isspace())\n",
        "print(s2.isspace())\n",
        "print(s3.isnumeric())"
      ],
      "execution_count": 133,
      "outputs": [
        {
          "output_type": "stream",
          "text": [
            "False\n",
            "False\n",
            "True\n",
            "False\n",
            "True\n",
            "False\n",
            "True\n",
            "True\n"
          ],
          "name": "stdout"
        }
      ]
    },
    {
      "cell_type": "markdown",
      "metadata": {
        "id": "tTQsi6eot65q",
        "colab_type": "text"
      },
      "source": [
        "## string methods\n",
        "- join() -- method will concatinates the two strings\n",
        "- split -- split() returns the list vof strings seperated by whitespace(no \n",
        "pasrameter)\n",
        "- replace() -- replaces the specific word/character with new word/character"
      ]
    },
    {
      "cell_type": "code",
      "metadata": {
        "id": "nasiziZnuYwc",
        "colab_type": "code",
        "colab": {
          "base_uri": "https://localhost:8080/",
          "height": 34
        },
        "outputId": "68f1eb9c-28ba-4166-94b4-0ef1e0645b77"
      },
      "source": [
        "s1='python'\n",
        "print(\" \".join(s1))"
      ],
      "execution_count": 135,
      "outputs": [
        {
          "output_type": "stream",
          "text": [
            "p y t h o n\n"
          ],
          "name": "stdout"
        }
      ]
    },
    {
      "cell_type": "code",
      "metadata": {
        "id": "iVs8QJCYumey",
        "colab_type": "code",
        "colab": {
          "base_uri": "https://localhost:8080/",
          "height": 34
        },
        "outputId": "9f23c35f-1ab9-40e8-f962-eacca0f592b2"
      },
      "source": [
        "s2=\"python programming Easy to learn\"\n",
        "print(\",\".join(s2))"
      ],
      "execution_count": 137,
      "outputs": [
        {
          "output_type": "stream",
          "text": [
            "p,y,t,h,o,n, ,p,r,o,g,r,a,m,m,i,n,g, ,E,a,s,y, ,t,o, ,l,e,a,r,n\n"
          ],
          "name": "stdout"
        }
      ]
    },
    {
      "cell_type": "code",
      "metadata": {
        "id": "wSkKDSoivru5",
        "colab_type": "code",
        "colab": {
          "base_uri": "https://localhost:8080/",
          "height": 34
        },
        "outputId": "8ee19e5a-bdc9-4491-e7ae-9b70e37144a2"
      },
      "source": [
        "li=['python','programming','learn']\n",
        "print(\",\".join(li))"
      ],
      "execution_count": 138,
      "outputs": [
        {
          "output_type": "stream",
          "text": [
            "python,programming,learn\n"
          ],
          "name": "stdout"
        }
      ]
    },
    {
      "cell_type": "code",
      "metadata": {
        "id": "M_7OVr5nxMQ_",
        "colab_type": "code",
        "colab": {
          "base_uri": "https://localhost:8080/",
          "height": 70
        },
        "outputId": "38585eda-48a7-41ad-acee-52da23deeeb6"
      },
      "source": [
        "s2=\"python programming easy to learn\"\n",
        "print(len(s2))\n",
        "li=s2.split() # split the string list objects\n",
        "print(li)\n",
        "print(len(li))"
      ],
      "execution_count": 141,
      "outputs": [
        {
          "output_type": "stream",
          "text": [
            "32\n",
            "['python', 'programming', 'easy', 'to', 'learn']\n",
            "5\n"
          ],
          "name": "stdout"
        }
      ]
    },
    {
      "cell_type": "code",
      "metadata": {
        "id": "MuP7uBsGwLqT",
        "colab_type": "code",
        "colab": {
          "base_uri": "https://localhost:8080/",
          "height": 34
        },
        "outputId": "b47a1d03-0347-4bbf-9c62-da44fcb84472"
      },
      "source": [
        "s2=\"python programming Easy to learn\"\n",
        "li=list(s2)\n",
        "print(li)"
      ],
      "execution_count": 139,
      "outputs": [
        {
          "output_type": "stream",
          "text": [
            "['p', 'y', 't', 'h', 'o', 'n', ' ', 'p', 'r', 'o', 'g', 'r', 'a', 'm', 'm', 'i', 'n', 'g', ' ', 'E', 'a', 's', 'y', ' ', 't', 'o', ' ', 'l', 'e', 'a', 'r', 'n']\n"
          ],
          "name": "stdout"
        }
      ]
    },
    {
      "cell_type": "code",
      "metadata": {
        "id": "fTLQO_c7ws0h",
        "colab_type": "code",
        "colab": {
          "base_uri": "https://localhost:8080/",
          "height": 34
        },
        "outputId": "18e2a869-f664-41c1-d6cc-c6eea3a38f6d"
      },
      "source": [
        "s2=\"python Programming Easy to learn\"\n",
        "print(s2.replace(\"gra\",\"application\"))"
      ],
      "execution_count": 140,
      "outputs": [
        {
          "output_type": "stream",
          "text": [
            "python Proapplicationmming Easy to learn\n"
          ],
          "name": "stdout"
        }
      ]
    }
  ]
}