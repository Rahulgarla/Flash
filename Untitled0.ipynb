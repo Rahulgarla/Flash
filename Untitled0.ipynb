{
  "nbformat": 4,
  "nbformat_minor": 0,
  "metadata": {
    "colab": {
      "name": "Untitled0.ipynb",
      "provenance": [],
      "include_colab_link": true
    },
    "kernelspec": {
      "name": "python3",
      "display_name": "Python 3"
    }
  },
  "cells": [
    {
      "cell_type": "markdown",
      "metadata": {
        "id": "view-in-github",
        "colab_type": "text"
      },
      "source": [
        "<a href=\"https://colab.research.google.com/github/Rahulgarla/Flash/blob/master/Untitled0.ipynb\" target=\"_parent\"><img src=\"https://colab.research.google.com/assets/colab-badge.svg\" alt=\"Open In Colab\"/></a>"
      ]
    },
    {
      "cell_type": "markdown",
      "metadata": {
        "id": "3zuf4_LwC6hF",
        "colab_type": "text"
      },
      "source": [
        "### Functional programming\n",
        "1. simple\n",
        "2. easy to understand\n",
        "3. better reusability\n",
        "4. length of program will be divided into sub program"
      ]
    },
    {
      "cell_type": "code",
      "metadata": {
        "id": "FZCArkYWEJsr",
        "colab_type": "code",
        "colab": {
          "base_uri": "https://localhost:8080/",
          "height": 34
        },
        "outputId": "5293d44a-5e14-4972-9795-c58c41a13d96"
      },
      "source": [
        "# Read a number\n",
        "# print even digit sum from the number\n",
        "\n",
        "# input=1234\n",
        "# output=6(2+4)\n",
        "def evendigitsum(n):\n",
        "    s = 0\n",
        "    while n!=0:\n",
        "      r=n%10\n",
        "      if r%2==0:\n",
        "        s=s+r\n",
        "      n=n//10\n",
        "    return s \n",
        "evendigitsum(1234)             "
      ],
      "execution_count": 12,
      "outputs": [
        {
          "output_type": "execute_result",
          "data": {
            "text/plain": [
              "6"
            ]
          },
          "metadata": {
            "tags": []
          },
          "execution_count": 12
        }
      ]
    },
    {
      "cell_type": "code",
      "metadata": {
        "id": "cMh9P8HdHgk2",
        "colab_type": "code",
        "colab": {
          "base_uri": "https://localhost:8080/",
          "height": 51
        },
        "outputId": "eb30246c-bfc6-433c-921d-cd51c7514bb3"
      },
      "source": [
        "# define return function\n",
        "def square(x):\n",
        "    print(x*x)\n",
        "print(square(4))    "
      ],
      "execution_count": 13,
      "outputs": [
        {
          "output_type": "stream",
          "text": [
            "16\n",
            "None\n"
          ],
          "name": "stdout"
        }
      ]
    },
    {
      "cell_type": "code",
      "metadata": {
        "id": "UZ6vLpurH6Tq",
        "colab_type": "code",
        "colab": {
          "base_uri": "https://localhost:8080/",
          "height": 34
        },
        "outputId": "c016e045-e0af-4133-d6f8-af3752d97815"
      },
      "source": [
        "def square(x):\n",
        "  return x*x\n",
        "square(4) "
      ],
      "execution_count": 17,
      "outputs": [
        {
          "output_type": "execute_result",
          "data": {
            "text/plain": [
              "16"
            ]
          },
          "metadata": {
            "tags": []
          },
          "execution_count": 17
        }
      ]
    },
    {
      "cell_type": "code",
      "metadata": {
        "id": "mcLtqgxwIYKb",
        "colab_type": "code",
        "colab": {
          "base_uri": "https://localhost:8080/",
          "height": 34
        },
        "outputId": "033c4b81-1055-4846-b7a2-548a8de439db"
      },
      "source": [
        "def cube(x):\n",
        "  return x*x*x\n",
        "cube(3)  "
      ],
      "execution_count": 18,
      "outputs": [
        {
          "output_type": "execute_result",
          "data": {
            "text/plain": [
              "27"
            ]
          },
          "metadata": {
            "tags": []
          },
          "execution_count": 18
        }
      ]
    },
    {
      "cell_type": "code",
      "metadata": {
        "id": "4J_eNvjjJz1u",
        "colab_type": "code",
        "colab": {
          "base_uri": "https://localhost:8080/",
          "height": 68
        },
        "outputId": "dd08ae70-d76b-4669-a9c9-002cf90e6c95"
      },
      "source": [
        "def multiply(x,y):\n",
        "    print(\"value of x=\",x)\n",
        "    print(\"value of y=\",y)\n",
        "    return(x*y)\n",
        "print(multiply(y=2,x=4))"
      ],
      "execution_count": 20,
      "outputs": [
        {
          "output_type": "stream",
          "text": [
            "value of x= 4\n",
            "value of y= 2\n",
            "8\n"
          ],
          "name": "stdout"
        }
      ]
    },
    {
      "cell_type": "code",
      "metadata": {
        "id": "hlL81DxDLHV0",
        "colab_type": "code",
        "colab": {
          "base_uri": "https://localhost:8080/",
          "height": 34
        },
        "outputId": "427f8d41-134b-45d6-f9e7-3a264b81655c"
      },
      "source": [
        "# swap  values\n",
        "def swap(x=2,y=3):\n",
        "    temp=x\n",
        "    x=y\n",
        "    y=temp\n",
        "    return x,y\n",
        "swap(2,3)"
      ],
      "execution_count": 30,
      "outputs": [
        {
          "output_type": "execute_result",
          "data": {
            "text/plain": [
              "(3, 2)"
            ]
          },
          "metadata": {
            "tags": []
          },
          "execution_count": 30
        }
      ]
    },
    {
      "cell_type": "code",
      "metadata": {
        "id": "-Atqz2JJOPU-",
        "colab_type": "code",
        "colab": {
          "base_uri": "https://localhost:8080/",
          "height": 34
        },
        "outputId": "4f61becf-742e-4c95-92ea-936a9de0cc33"
      },
      "source": [
        "# input=18764\n",
        "# output=9(large number of digit)\n",
        "def largedigit(n):\n",
        "    large=0\n",
        "    while n!=0:\n",
        "        r=n%10\n",
        "        if large<r:\n",
        "          large=r\n",
        "        n=n//10\n",
        "    return large\n",
        "largedigit(18764)          "
      ],
      "execution_count": 34,
      "outputs": [
        {
          "output_type": "execute_result",
          "data": {
            "text/plain": [
              "8"
            ]
          },
          "metadata": {
            "tags": []
          },
          "execution_count": 34
        }
      ]
    },
    {
      "cell_type": "code",
      "metadata": {
        "id": "YZlkBtTfRcpP",
        "colab_type": "code",
        "colab": {
          "base_uri": "https://localhost:8080/",
          "height": 34
        },
        "outputId": "5d427bb6-64f0-49f5-c389-f639263d7407"
      },
      "source": [
        "# input=18764\n",
        "# output=1(small number of digit)\n",
        "def smalldigit(n):\n",
        "    small=n\n",
        "    while n!=0:\n",
        "        r=n%10\n",
        "        if small>r:\n",
        "          small=r\n",
        "        n=n//10\n",
        "    return small\n",
        "smalldigit(18764)          "
      ],
      "execution_count": 43,
      "outputs": [
        {
          "output_type": "execute_result",
          "data": {
            "text/plain": [
              "1"
            ]
          },
          "metadata": {
            "tags": []
          },
          "execution_count": 43
        }
      ]
    },
    {
      "cell_type": "markdown",
      "metadata": {
        "id": "Uae_JCL6S897",
        "colab_type": "text"
      },
      "source": [
        "## For loop\n",
        "#### syntax 1:\n",
        "for 1 in range (start,stop,step):\n",
        "> statements\n",
        "#### syntax 2:\n",
        "for 1 in itarableobject:\n",
        "> statements"
      ]
    },
    {
      "cell_type": "code",
      "metadata": {
        "id": "uyNOPG8wT378",
        "colab_type": "code",
        "colab": {
          "base_uri": "https://localhost:8080/",
          "height": 34
        },
        "outputId": "a4809200-72db-49f2-f92e-b34105a6ed0e"
      },
      "source": [
        "# Function to print the numbers between two limits\n",
        "\n",
        "def printseries(lb,ub):\n",
        "   for x in range(lb,ub+1):\n",
        "     print(x,end=' ')\n",
        "   return\n",
        "printseries(1,10)     "
      ],
      "execution_count": 55,
      "outputs": [
        {
          "output_type": "stream",
          "text": [
            "1 2 3 4 5 6 7 8 9 10 "
          ],
          "name": "stdout"
        }
      ]
    },
    {
      "cell_type": "markdown",
      "metadata": {
        "id": "cVvfqgK8WlD-",
        "colab_type": "text"
      },
      "source": [
        "# DATA STRUCTURES\n",
        "## collection types:\n",
        "1. list\n",
        "2, tupple\n",
        "3. set\n",
        "4. stationary"
      ]
    },
    {
      "cell_type": "markdown",
      "metadata": {
        "id": "CnAl58vvXAn0",
        "colab_type": "text"
      },
      "source": [
        "# list:\n",
        "\n",
        "# - one of data stucture in python\n",
        "# - data structure means to sstore, sort and search options\n",
        "# - its noe common data structure in python, the items of list sepersted by comma and enclosed in square brackets [ ]\n",
        "\n",
        "#### examples:\n",
        "     - list1 = [1,2,3,4,5]\n",
        "     - list2 = [\"gitam\",1,2]"
      ]
    },
    {
      "cell_type": "code",
      "metadata": {
        "id": "Y41iuAlDYDLF",
        "colab_type": "code",
        "colab": {
          "base_uri": "https://localhost:8080/",
          "height": 170
        },
        "outputId": "11731bc0-45f9-4c7b-e865-8063e9823113"
      },
      "source": [
        "  # 0  1  2   3  4\n",
        "li=[1, 8, 16, 9, 2]\n",
        " # -5 -4 -3  -2 -1  \n",
        "print(li) # will print all the list items \n",
        "print(li[0])\n",
        "print(li[1])\n",
        "print(li[-5])\n",
        "print(li[-4])\n",
        "print(li[1:4])\n",
        "print(li[-5:-3])\n",
        "print(li[-3:-5]) # no output list coz wrong selection\n",
        "print(li[-4:-3])"
      ],
      "execution_count": 66,
      "outputs": [
        {
          "output_type": "stream",
          "text": [
            "[1, 8, 16, 9, 2]\n",
            "1\n",
            "8\n",
            "1\n",
            "8\n",
            "[8, 16, 9]\n",
            "[1, 8]\n",
            "[]\n",
            "[8]\n"
          ],
          "name": "stdout"
        }
      ]
    },
    {
      "cell_type": "code",
      "metadata": {
        "id": "jGB1smGPchdY",
        "colab_type": "code",
        "colab": {
          "base_uri": "https://localhost:8080/",
          "height": 51
        },
        "outputId": "d1874c17-e494-445c-e051-718d43108c1e"
      },
      "source": [
        "# update list\n",
        "li=['gitam',1234,2019,'hyd']\n",
        "print(li)\n",
        "li[1]=450\n",
        "print(li)"
      ],
      "execution_count": 74,
      "outputs": [
        {
          "output_type": "stream",
          "text": [
            "['gitam', 1234, 2019, 'hyd']\n",
            "['gitam', 450, 2019, 'hyd']\n"
          ],
          "name": "stdout"
        }
      ]
    },
    {
      "cell_type": "code",
      "metadata": {
        "id": "RoisNh_YdcjQ",
        "colab_type": "code",
        "colab": {
          "base_uri": "https://localhost:8080/",
          "height": 51
        },
        "outputId": "64660779-39d4-4d62-d4a2-e9592d91efa2"
      },
      "source": [
        "# delete unwanted list\n",
        "li=['gitam',1234,2019,'hyd']\n",
        "print(li)\n",
        "del li[3]\n",
        "print(li) "
      ],
      "execution_count": 75,
      "outputs": [
        {
          "output_type": "stream",
          "text": [
            "['gitam', 1234, 2019, 'hyd']\n",
            "['gitam', 1234, 2019]\n"
          ],
          "name": "stdout"
        }
      ]
    },
    {
      "cell_type": "code",
      "metadata": {
        "id": "6HihMrmaa3wg",
        "colab_type": "code",
        "colab": {}
      },
      "source": [
        ""
      ],
      "execution_count": 0,
      "outputs": []
    }
  ]
}